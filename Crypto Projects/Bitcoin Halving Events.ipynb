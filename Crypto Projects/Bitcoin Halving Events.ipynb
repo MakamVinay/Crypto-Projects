{
 "cells": [
  {
   "cell_type": "code",
   "execution_count": 1,
   "id": "4aaf7a37-45dd-4480-9e16-9837143b042d",
   "metadata": {
    "tags": []
   },
   "outputs": [
    {
     "name": "stdout",
     "output_type": "stream",
     "text": [
      "Requirement already satisfied: pandas in c:\\users\\vinay m v\\anaconda3\\lib\\site-packages (2.0.3)\n",
      "Requirement already satisfied: matplotlib in c:\\users\\vinay m v\\anaconda3\\lib\\site-packages (3.7.2)\n",
      "Requirement already satisfied: yfinance in c:\\users\\vinay m v\\anaconda3\\lib\\site-packages (0.2.53)\n",
      "Requirement already satisfied: requests in c:\\users\\vinay m v\\anaconda3\\lib\\site-packages (2.31.0)\n",
      "Requirement already satisfied: python-dateutil>=2.8.2 in c:\\users\\vinay m v\\anaconda3\\lib\\site-packages (from pandas) (2.8.2)\n",
      "Requirement already satisfied: pytz>=2020.1 in c:\\users\\vinay m v\\anaconda3\\lib\\site-packages (from pandas) (2023.3.post1)\n",
      "Requirement already satisfied: tzdata>=2022.1 in c:\\users\\vinay m v\\anaconda3\\lib\\site-packages (from pandas) (2023.3)\n",
      "Requirement already satisfied: numpy>=1.21.0 in c:\\users\\vinay m v\\anaconda3\\lib\\site-packages (from pandas) (1.24.3)\n",
      "Requirement already satisfied: contourpy>=1.0.1 in c:\\users\\vinay m v\\anaconda3\\lib\\site-packages (from matplotlib) (1.0.5)\n",
      "Requirement already satisfied: cycler>=0.10 in c:\\users\\vinay m v\\anaconda3\\lib\\site-packages (from matplotlib) (0.11.0)\n",
      "Requirement already satisfied: fonttools>=4.22.0 in c:\\users\\vinay m v\\anaconda3\\lib\\site-packages (from matplotlib) (4.25.0)\n",
      "Requirement already satisfied: kiwisolver>=1.0.1 in c:\\users\\vinay m v\\anaconda3\\lib\\site-packages (from matplotlib) (1.4.4)\n",
      "Requirement already satisfied: packaging>=20.0 in c:\\users\\vinay m v\\anaconda3\\lib\\site-packages (from matplotlib) (23.1)\n",
      "Requirement already satisfied: pillow>=6.2.0 in c:\\users\\vinay m v\\anaconda3\\lib\\site-packages (from matplotlib) (9.4.0)\n",
      "Requirement already satisfied: pyparsing<3.1,>=2.3.1 in c:\\users\\vinay m v\\anaconda3\\lib\\site-packages (from matplotlib) (3.0.9)\n",
      "Requirement already satisfied: multitasking>=0.0.7 in c:\\users\\vinay m v\\anaconda3\\lib\\site-packages (from yfinance) (0.0.11)\n",
      "Requirement already satisfied: platformdirs>=2.0.0 in c:\\users\\vinay m v\\anaconda3\\lib\\site-packages (from yfinance) (3.10.0)\n",
      "Requirement already satisfied: frozendict>=2.3.4 in c:\\users\\vinay m v\\anaconda3\\lib\\site-packages (from yfinance) (2.4.6)\n",
      "Requirement already satisfied: peewee>=3.16.2 in c:\\users\\vinay m v\\anaconda3\\lib\\site-packages (from yfinance) (3.17.9)\n",
      "Requirement already satisfied: beautifulsoup4>=4.11.1 in c:\\users\\vinay m v\\anaconda3\\lib\\site-packages (from yfinance) (4.12.2)\n",
      "Requirement already satisfied: charset-normalizer<4,>=2 in c:\\users\\vinay m v\\anaconda3\\lib\\site-packages (from requests) (2.0.4)\n",
      "Requirement already satisfied: idna<4,>=2.5 in c:\\users\\vinay m v\\anaconda3\\lib\\site-packages (from requests) (3.4)\n",
      "Requirement already satisfied: urllib3<3,>=1.21.1 in c:\\users\\vinay m v\\anaconda3\\lib\\site-packages (from requests) (1.26.16)\n",
      "Requirement already satisfied: certifi>=2017.4.17 in c:\\users\\vinay m v\\anaconda3\\lib\\site-packages (from requests) (2023.7.22)\n",
      "Requirement already satisfied: soupsieve>1.2 in c:\\users\\vinay m v\\anaconda3\\lib\\site-packages (from beautifulsoup4>=4.11.1->yfinance) (2.4)\n",
      "Requirement already satisfied: six>=1.5 in c:\\users\\vinay m v\\anaconda3\\lib\\site-packages (from python-dateutil>=2.8.2->pandas) (1.16.0)\n",
      "Note: you may need to restart the kernel to use updated packages.\n"
     ]
    }
   ],
   "source": [
    "pip install pandas matplotlib yfinance requests"
   ]
  },
  {
   "cell_type": "code",
   "execution_count": 2,
   "id": "e14beca9-f504-4d2a-ba1f-d34e69939aff",
   "metadata": {
    "tags": []
   },
   "outputs": [],
   "source": [
    "import yfinance as yf\n",
    "import pandas as pd"
   ]
  },
  {
   "cell_type": "code",
   "execution_count": 3,
   "id": "a813dab4-eca1-4412-8efe-78c372bf6f47",
   "metadata": {
    "tags": []
   },
   "outputs": [
    {
     "name": "stdout",
     "output_type": "stream",
     "text": [
      "YF.download() has changed argument auto_adjust default to True\n"
     ]
    },
    {
     "name": "stderr",
     "output_type": "stream",
     "text": [
      "[*********************100%***********************]  1 of 1 completed\n",
      "\n",
      "1 Failed download:\n",
      "['BTC-USD']: YFRateLimitError('Too Many Requests. Rate limited. Try after a while.')\n"
     ]
    }
   ],
   "source": [
    "# Fetch Bitcoin price data\n",
    "btc_data = yf.download('BTC-USD', start='2010-01-01', end='2023-10-01')\n",
    "btc_data.reset_index(inplace=True)  # Reset index to make 'Date' a column\n",
    "btc_data.rename(columns={'Adj Close': 'Price'}, inplace=True)"
   ]
  },
  {
   "cell_type": "code",
   "execution_count": 4,
   "id": "9d33d5a8-f28a-44a1-9dc9-06b8bd8b4cf3",
   "metadata": {
    "tags": []
   },
   "outputs": [
    {
     "name": "stdout",
     "output_type": "stream",
     "text": [
      "Empty DataFrame\n",
      "Columns: [(Date, ), (Price, BTC-USD), (Close, BTC-USD), (High, BTC-USD), (Low, BTC-USD), (Open, BTC-USD), (Volume, BTC-USD)]\n",
      "Index: []\n"
     ]
    }
   ],
   "source": [
    "print(btc_data.head())"
   ]
  },
  {
   "cell_type": "code",
   "execution_count": 5,
   "id": "85800702-b5c5-407a-9165-f271cd690dfd",
   "metadata": {
    "tags": []
   },
   "outputs": [],
   "source": [
    "halving_dates = ['2012-11-28', '2016-07-09', '2020-05-11']\n",
    "halving_dates = pd.to_datetime(halving_dates)  # Convert to datetime format"
   ]
  },
  {
   "cell_type": "code",
   "execution_count": 24,
   "id": "0df190c7-21c4-41b8-82d0-be46b1be8f39",
   "metadata": {
    "tags": []
   },
   "outputs": [],
   "source": [
    "# Function to calculate price changes around halving events\n",
    "def analyze_halving_impact(data, halving_dates, days_before=365, days_after=365):\n",
    "    results = []\n",
    "    for date in halving_dates:\n",
    "        # Filter data for the period around the halving event\n",
    "        start_date = date - pd.Timedelta(days=days_before)\n",
    "        end_date = date + pd.Timedelta(days=days_after)\n",
    "        subset = data[(data['Date'] >= start_date) & (data['Date'] <= end_date)].copy()\n",
    "           # Calculate percentage change relative to the halving date\n",
    "        halving_price = subset.loc[subset['Date'] == date, 'Price'].values[0]\n",
    "        subset['PctChange'] = (subset['Price'] - halving_price) / halving_price * 100\n",
    "             # Store results\n",
    "        results.append({\n",
    "            'Halving Date': date,\n",
    "            'Start Date': start_date,\n",
    "            'End Date': end_date,\n",
    "            'Data': subset\n",
    "        })\n",
    "    return results"
   ]
  },
  {
   "cell_type": "code",
   "execution_count": 25,
   "id": "d76230cf-6963-442f-8a30-0be5a5082fd1",
   "metadata": {
    "tags": []
   },
   "outputs": [
    {
     "ename": "IndexError",
     "evalue": "index 0 is out of bounds for axis 0 with size 0",
     "output_type": "error",
     "traceback": [
      "\u001b[1;31m---------------------------------------------------------------------------\u001b[0m",
      "\u001b[1;31mIndexError\u001b[0m                                Traceback (most recent call last)",
      "Cell \u001b[1;32mIn[25], line 2\u001b[0m\n\u001b[0;32m      1\u001b[0m \u001b[38;5;66;03m# Analyze halving impact\u001b[39;00m\n\u001b[1;32m----> 2\u001b[0m halving_analysis \u001b[38;5;241m=\u001b[39m analyze_halving_impact(btc_data, halving_dates)\n",
      "Cell \u001b[1;32mIn[24], line 10\u001b[0m, in \u001b[0;36manalyze_halving_impact\u001b[1;34m(data, halving_dates, days_before, days_after)\u001b[0m\n\u001b[0;32m      8\u001b[0m subset \u001b[38;5;241m=\u001b[39m data[(data[\u001b[38;5;124m'\u001b[39m\u001b[38;5;124mDate\u001b[39m\u001b[38;5;124m'\u001b[39m] \u001b[38;5;241m>\u001b[39m\u001b[38;5;241m=\u001b[39m start_date) \u001b[38;5;241m&\u001b[39m (data[\u001b[38;5;124m'\u001b[39m\u001b[38;5;124mDate\u001b[39m\u001b[38;5;124m'\u001b[39m] \u001b[38;5;241m<\u001b[39m\u001b[38;5;241m=\u001b[39m end_date)]\u001b[38;5;241m.\u001b[39mcopy()\n\u001b[0;32m      9\u001b[0m    \u001b[38;5;66;03m# Calculate percentage change relative to the halving date\u001b[39;00m\n\u001b[1;32m---> 10\u001b[0m halving_price \u001b[38;5;241m=\u001b[39m subset\u001b[38;5;241m.\u001b[39mloc[subset[\u001b[38;5;124m'\u001b[39m\u001b[38;5;124mDate\u001b[39m\u001b[38;5;124m'\u001b[39m] \u001b[38;5;241m==\u001b[39m date, \u001b[38;5;124m'\u001b[39m\u001b[38;5;124mPrice\u001b[39m\u001b[38;5;124m'\u001b[39m]\u001b[38;5;241m.\u001b[39mvalues[\u001b[38;5;241m0\u001b[39m]\n\u001b[0;32m     11\u001b[0m subset[\u001b[38;5;124m'\u001b[39m\u001b[38;5;124mPctChange\u001b[39m\u001b[38;5;124m'\u001b[39m] \u001b[38;5;241m=\u001b[39m (subset[\u001b[38;5;124m'\u001b[39m\u001b[38;5;124mPrice\u001b[39m\u001b[38;5;124m'\u001b[39m] \u001b[38;5;241m-\u001b[39m halving_price) \u001b[38;5;241m/\u001b[39m halving_price \u001b[38;5;241m*\u001b[39m \u001b[38;5;241m100\u001b[39m\n\u001b[0;32m     12\u001b[0m      \u001b[38;5;66;03m# Store results\u001b[39;00m\n",
      "\u001b[1;31mIndexError\u001b[0m: index 0 is out of bounds for axis 0 with size 0"
     ]
    }
   ],
   "source": [
    "# Analyze halving impact\n",
    "halving_analysis = analyze_halving_impact(btc_data, halving_dates)"
   ]
  },
  {
   "cell_type": "code",
   "execution_count": null,
   "id": "dba93d45-5d4f-4c3e-9e2e-09ac17cbd167",
   "metadata": {},
   "outputs": [],
   "source": []
  }
 ],
 "metadata": {
  "kernelspec": {
   "display_name": "Python 3 (ipykernel)",
   "language": "python",
   "name": "python3"
  },
  "language_info": {
   "codemirror_mode": {
    "name": "ipython",
    "version": 3
   },
   "file_extension": ".py",
   "mimetype": "text/x-python",
   "name": "python",
   "nbconvert_exporter": "python",
   "pygments_lexer": "ipython3",
   "version": "3.11.5"
  }
 },
 "nbformat": 4,
 "nbformat_minor": 5
}
